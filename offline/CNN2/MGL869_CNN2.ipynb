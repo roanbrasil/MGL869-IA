{
  "cells": [
    {
      "cell_type": "code",
      "execution_count": 19,
      "metadata": {
        "colab": {
          "base_uri": "https://localhost:8080/"
        },
        "id": "MzcWY50raucb",
        "outputId": "cd9ce0c8-b43f-4cf1-9bf3-15bc764b2a1a"
      },
      "outputs": [
        {
          "name": "stdout",
          "output_type": "stream",
          "text": [
            "Requirement already satisfied: kaggle in /usr/local/lib/python3.10/dist-packages (1.6.14)\n",
            "Requirement already satisfied: six>=1.10 in /usr/local/lib/python3.10/dist-packages (from kaggle) (1.16.0)\n",
            "Requirement already satisfied: certifi>=2023.7.22 in /usr/local/lib/python3.10/dist-packages (from kaggle) (2024.6.2)\n",
            "Requirement already satisfied: python-dateutil in /usr/local/lib/python3.10/dist-packages (from kaggle) (2.8.2)\n",
            "Requirement already satisfied: requests in /usr/local/lib/python3.10/dist-packages (from kaggle) (2.31.0)\n",
            "Requirement already satisfied: tqdm in /usr/local/lib/python3.10/dist-packages (from kaggle) (4.66.4)\n",
            "Requirement already satisfied: python-slugify in /usr/local/lib/python3.10/dist-packages (from kaggle) (8.0.4)\n",
            "Requirement already satisfied: urllib3 in /usr/local/lib/python3.10/dist-packages (from kaggle) (2.0.7)\n",
            "Requirement already satisfied: bleach in /usr/local/lib/python3.10/dist-packages (from kaggle) (6.1.0)\n",
            "Requirement already satisfied: webencodings in /usr/local/lib/python3.10/dist-packages (from bleach->kaggle) (0.5.1)\n",
            "Requirement already satisfied: text-unidecode>=1.3 in /usr/local/lib/python3.10/dist-packages (from python-slugify->kaggle) (1.3)\n",
            "Requirement already satisfied: charset-normalizer<4,>=2 in /usr/local/lib/python3.10/dist-packages (from requests->kaggle) (3.3.2)\n",
            "Requirement already satisfied: idna<4,>=2.5 in /usr/local/lib/python3.10/dist-packages (from requests->kaggle) (3.7)\n",
            "Dataset URL: https://www.kaggle.com/datasets/puneet6060/intel-image-classification\n",
            "License(s): copyright-authors\n",
            "intel-image-classification.zip: Skipping, found more recently modified local copy (use --force to force download)\n",
            "Dataset téléchargé et extrait avec succès.\n"
          ]
        }
      ],
      "source": [
        "# IMPORTANT: RUN THIS CELL IN ORDER TO IMPORT YOUR KAGGLE DATA SOURCES\n",
        "import os\n",
        "import sys\n",
        "from tempfile import NamedTemporaryFile\n",
        "from urllib.request import urlopen\n",
        "from urllib.parse import unquote, urlparse\n",
        "from urllib.error import HTTPError\n",
        "from zipfile import ZipFile\n",
        "import tarfile\n",
        "import shutil\n",
        "\n",
        "# Étape 1: Créer le répertoire .kaggle et configurer l'API Key\n",
        "os.makedirs(os.path.expanduser('~/.kaggle'), exist_ok=True)\n",
        "kaggle_api_key = '{\"username\":\"username\",\"key\":\"key\"}'  # Remplacez par vos informations\n",
        "with open(os.path.expanduser('~/.kaggle/kaggle.json'), 'w') as f:\n",
        "    f.write(kaggle_api_key)\n",
        "os.chmod(os.path.expanduser('~/.kaggle/kaggle.json'), 0o600)\n",
        "\n",
        "# Étape 2: Installer la bibliothèque Kaggle\n",
        "!pip install kaggle\n",
        "\n",
        "# Étape 3: Télécharger le dataset Kaggle\n",
        "dataset = 'puneet6060/intel-image-classification'  # Remplacez par le nom du dataset correct\n",
        "!kaggle datasets download -d {dataset}\n",
        "\n",
        "# Étape 4: Décompresser le dataset téléchargé\n",
        "zip_file = f'{dataset.split(\"/\")[-1]}.zip'\n",
        "with zipfile.ZipFile(zip_file, 'r') as zip_ref:\n",
        "    zip_ref.extractall('/kaggle/input/')  # Remplacez par le chemin d'extraction souhaité\n",
        "\n",
        "print(\"Dataset téléchargé et extrait avec succès.\")\n",
        "\n",
        "\n",
        "\n"
      ]
    },
    {
      "cell_type": "code",
      "execution_count": 15,
      "metadata": {
        "colab": {
          "base_uri": "https://localhost:8080/",
          "height": 17
        },
        "id": "v9QVNWbxgIbR",
        "outputId": "aecaa97c-7b8c-49eb-b22a-66f78715675a"
      },
      "outputs": [
        {
          "data": {
            "application/javascript": "\n    async function download(id, filename, size) {\n      if (!google.colab.kernel.accessAllowed) {\n        return;\n      }\n      const div = document.createElement('div');\n      const label = document.createElement('label');\n      label.textContent = `Downloading \"${filename}\": `;\n      div.appendChild(label);\n      const progress = document.createElement('progress');\n      progress.max = size;\n      div.appendChild(progress);\n      document.body.appendChild(div);\n\n      const buffers = [];\n      let downloaded = 0;\n\n      const channel = await google.colab.kernel.comms.open(id);\n      // Send a message to notify the kernel that we're ready.\n      channel.send({})\n\n      for await (const message of channel.messages) {\n        // Send a message to notify the kernel that we're ready.\n        channel.send({})\n        if (message.buffers) {\n          for (const buffer of message.buffers) {\n            buffers.push(buffer);\n            downloaded += buffer.byteLength;\n            progress.value = downloaded;\n          }\n        }\n      }\n      const blob = new Blob(buffers, {type: 'application/binary'});\n      const a = document.createElement('a');\n      a.href = window.URL.createObjectURL(blob);\n      a.download = filename;\n      div.appendChild(a);\n      a.click();\n      div.remove();\n    }\n  ",
            "text/plain": [
              "<IPython.core.display.Javascript object>"
            ]
          },
          "metadata": {},
          "output_type": "display_data"
        },
        {
          "data": {
            "application/javascript": "download(\"download_a6a254f5-2037-4c96-b1b4-2aec67b537e2\", \"saved_model.zip\", 22)",
            "text/plain": [
              "<IPython.core.display.Javascript object>"
            ]
          },
          "metadata": {},
          "output_type": "display_data"
        }
      ],
      "source": [
        "import shutil\n",
        "from google.colab import files\n",
        "\n",
        "# Définir le chemin du dossier à compresser\n",
        "folder_to_zip = '/content/saved_model'\n",
        "\n",
        "# Définir le chemin du fichier ZIP\n",
        "output_filename = '/content/saved_model.zip'\n",
        "\n",
        "# Compresser le dossier en fichier ZIP\n",
        "shutil.make_archive(output_filename.replace('.zip', ''), 'zip', folder_to_zip)\n",
        "\n",
        "# Télécharger le fichier ZIP\n",
        "files.download(output_filename)\n"
      ]
    },
    {
      "cell_type": "code",
      "execution_count": 16,
      "metadata": {
        "colab": {
          "base_uri": "https://localhost:8080/"
        },
        "id": "Qndor91dRNyL",
        "outputId": "332ea4de-42b2-4d32-ccd0-6ae7907bf7d9"
      },
      "outputs": [
        {
          "name": "stdout",
          "output_type": "stream",
          "text": [
            "Requirement already satisfied: kaggle in /usr/local/lib/python3.10/dist-packages (1.6.14)\n",
            "Requirement already satisfied: six>=1.10 in /usr/local/lib/python3.10/dist-packages (from kaggle) (1.16.0)\n",
            "Requirement already satisfied: certifi>=2023.7.22 in /usr/local/lib/python3.10/dist-packages (from kaggle) (2024.6.2)\n",
            "Requirement already satisfied: python-dateutil in /usr/local/lib/python3.10/dist-packages (from kaggle) (2.8.2)\n",
            "Requirement already satisfied: requests in /usr/local/lib/python3.10/dist-packages (from kaggle) (2.31.0)\n",
            "Requirement already satisfied: tqdm in /usr/local/lib/python3.10/dist-packages (from kaggle) (4.66.4)\n",
            "Requirement already satisfied: python-slugify in /usr/local/lib/python3.10/dist-packages (from kaggle) (8.0.4)\n",
            "Requirement already satisfied: urllib3 in /usr/local/lib/python3.10/dist-packages (from kaggle) (2.0.7)\n",
            "Requirement already satisfied: bleach in /usr/local/lib/python3.10/dist-packages (from kaggle) (6.1.0)\n",
            "Requirement already satisfied: webencodings in /usr/local/lib/python3.10/dist-packages (from bleach->kaggle) (0.5.1)\n",
            "Requirement already satisfied: text-unidecode>=1.3 in /usr/local/lib/python3.10/dist-packages (from python-slugify->kaggle) (1.3)\n",
            "Requirement already satisfied: charset-normalizer<4,>=2 in /usr/local/lib/python3.10/dist-packages (from requests->kaggle) (3.3.2)\n",
            "Requirement already satisfied: idna<4,>=2.5 in /usr/local/lib/python3.10/dist-packages (from requests->kaggle) (3.7)\n"
          ]
        }
      ],
      "source": [
        "!pip install kaggle"
      ]
    },
    {
      "cell_type": "code",
      "execution_count": 20,
      "metadata": {
        "colab": {
          "base_uri": "https://localhost:8080/"
        },
        "execution": {
          "iopub.execute_input": "2024-05-27T18:56:08.281875Z",
          "iopub.status.busy": "2024-05-27T18:56:08.281497Z",
          "iopub.status.idle": "2024-05-27T18:56:17.58222Z",
          "shell.execute_reply": "2024-05-27T18:56:17.580471Z",
          "shell.execute_reply.started": "2024-05-27T18:56:08.281844Z"
        },
        "id": "IF-MVDvCqGC1",
        "outputId": "1a9f85b7-2add-4622-fd32-28fc7a1e9468",
        "trusted": true
      },
      "outputs": [
        {
          "name": "stderr",
          "output_type": "stream",
          "text": [
            "100%|██████████| 6/6 [06:50<00:00, 68.40s/it]\n",
            "100%|██████████| 6/6 [06:40<00:00, 66.75s/it]\n",
            "100%|██████████| 6/6 [01:31<00:00, 15.25s/it]\n"
          ]
        }
      ],
      "source": [
        "# Augmentation des données\n",
        "import os\n",
        "import cv2\n",
        "import numpy as np\n",
        "import shutil\n",
        "from tensorflow.keras.preprocessing.image import ImageDataGenerator\n",
        "from tqdm import tqdm\n",
        "\n",
        "def create_directory_structure(base_dir):\n",
        "    if not os.path.exists(base_dir):\n",
        "        os.makedirs(base_dir)\n",
        "    for split in ['train', 'validation', 'test']:\n",
        "        split_dir = os.path.join(base_dir, split)\n",
        "        if not os.path.exists(split_dir):\n",
        "            os.makedirs(split_dir)\n",
        "        for category in ['buildings', 'forest', 'glacier', 'mountain', 'sea', 'street']:\n",
        "            category_dir = os.path.join(split_dir, category)\n",
        "            if not os.path.exists(category_dir):\n",
        "                os.makedirs(category_dir)\n",
        "\n",
        "def augment_and_save_images(image_path, save_dir, num_augmented=2, img_width=150, img_height=150):\n",
        "    # Créer un générateur de données pour l'augmentation avec transformations supplémentaires\n",
        "    datagen = ImageDataGenerator(\n",
        "        rotation_range=30,             # Rotation\n",
        "        width_shift_range=0.2,         # Décalage horizontal\n",
        "        height_shift_range=0.2,        # Décalage vertical\n",
        "        shear_range=0.2,               # Cisaillement\n",
        "        zoom_range=0.2,                # Zoom\n",
        "        brightness_range=[0.8, 1.2],   # Augmenter la luminosité\n",
        "        horizontal_flip=True,          # Flip horizontal\n",
        "        fill_mode='nearest'            # Mode de remplissage pour les nouvelles zones\n",
        "    )\n",
        "\n",
        "    # Lire et redimensionner l'image d'origine\n",
        "    img = cv2.imread(image_path)\n",
        "    if img is None:\n",
        "        return\n",
        "    img = cv2.resize(img, (img_width, img_height))\n",
        "    img = np.expand_dims(img, 0)  # Ajouter une dimension pour le générateur\n",
        "\n",
        "    # Copier l'image originale\n",
        "    base_name = os.path.basename(image_path)\n",
        "    shutil.copy(image_path, os.path.join(save_dir, base_name))\n",
        "\n",
        "    # Générer et enregistrer les images augmentées\n",
        "    for i, batch in enumerate(datagen.flow(img, batch_size=1, save_to_dir=save_dir, save_prefix=os.path.splitext(base_name)[0] + '_aug', save_format='jpg')):\n",
        "        if i >= num_augmented:\n",
        "            break\n",
        "\n",
        "def augment_dataset(dataset_path, save_base_dir, split, img_width=150, img_height=150, num_augmented=2):\n",
        "    categories = os.listdir(dataset_path)\n",
        "    for category in tqdm(categories):\n",
        "        category_path = os.path.join(dataset_path, category)\n",
        "        save_dir = os.path.join(save_base_dir, split, category)\n",
        "        for file in os.listdir(category_path):\n",
        "            if file.endswith('.jpg'):\n",
        "                file_path = os.path.join(category_path, file)\n",
        "                augment_and_save_images(file_path, save_dir, num_augmented, img_width, img_height)\n",
        "\n",
        "# Chemins vers les ensembles d'entraînement, de validation et de test\n",
        "train_path = \"/kaggle/input/seg_train/seg_train\"\n",
        "validation_path = \"/kaggle/input/seg_train/seg_train\"  # Assumed to be the same as train for demonstration\n",
        "test_path = \"/kaggle/input/seg_test/seg_test\"\n",
        "\n",
        "# Chemin de sauvegarde pour les nouvelles données augmentées\n",
        "save_base_dir = \"/content/augmented_dataset\"\n",
        "\n",
        "# Créer la nouvelle structure de répertoires\n",
        "create_directory_structure(save_base_dir)\n",
        "\n",
        "# Augmenter les données dans les ensembles d'entraînement, de validation et de test\n",
        "augment_dataset(train_path, save_base_dir, 'train')\n",
        "augment_dataset(validation_path, save_base_dir, 'validation')\n",
        "augment_dataset(test_path, save_base_dir, 'test')\n"
      ]
    },
    {
      "cell_type": "code",
      "execution_count": null,
      "metadata": {
        "id": "nJuOTmeffAm9"
      },
      "outputs": [],
      "source": []
    },
    {
      "cell_type": "code",
      "execution_count": 21,
      "metadata": {
        "colab": {
          "base_uri": "https://localhost:8080/",
          "height": 1000
        },
        "execution": {
          "iopub.execute_input": "2024-05-27T18:56:40.190883Z",
          "iopub.status.busy": "2024-05-27T18:56:40.190224Z"
        },
        "id": "SuKNLQvdqGCt",
        "outputId": "7d706732-ffe4-4f83-f39a-1b2a29846a71",
        "trusted": true
      },
      "outputs": [
        {
          "name": "stdout",
          "output_type": "stream",
          "text": [
            "Found 56133 images belonging to 6 classes.\n",
            "Found 11999 images belonging to 6 classes.\n",
            "2024-06-07 03:44:16.630837-04:00\n",
            "Epoch 1/12\n",
            "250/250 [==============================] - 336s 1s/step - loss: 1.1395 - accuracy: 0.5461 - val_loss: 1.0233 - val_accuracy: 0.6156\n",
            "Epoch 2/12\n",
            "250/250 [==============================] - 323s 1s/step - loss: 0.9412 - accuracy: 0.6348 - val_loss: 0.9349 - val_accuracy: 0.6620\n",
            "Epoch 3/12\n",
            "250/250 [==============================] - 303s 1s/step - loss: 0.8521 - accuracy: 0.6777 - val_loss: 0.8178 - val_accuracy: 0.6977\n",
            "Epoch 4/12\n",
            "250/250 [==============================] - 321s 1s/step - loss: 0.8060 - accuracy: 0.6988 - val_loss: 0.7759 - val_accuracy: 0.7122\n",
            "Epoch 5/12\n",
            "250/250 [==============================] - 298s 1s/step - loss: 0.7603 - accuracy: 0.7159 - val_loss: 0.7790 - val_accuracy: 0.7164\n",
            "Epoch 6/12\n",
            "250/250 [==============================] - 296s 1s/step - loss: 0.7380 - accuracy: 0.7259 - val_loss: 0.7246 - val_accuracy: 0.7333\n",
            "Epoch 7/12\n",
            "250/250 [==============================] - 292s 1s/step - loss: 0.7150 - accuracy: 0.7350 - val_loss: 0.7797 - val_accuracy: 0.7199\n",
            "Epoch 8/12\n",
            "250/250 [==============================] - 291s 1s/step - loss: 0.6968 - accuracy: 0.7424 - val_loss: 0.7762 - val_accuracy: 0.7214\n",
            "Epoch 9/12\n",
            "250/250 [==============================] - 345s 1s/step - loss: 0.6729 - accuracy: 0.7519 - val_loss: 0.7621 - val_accuracy: 0.7207\n",
            "Epoch 10/12\n",
            "250/250 [==============================] - 284s 1s/step - loss: 0.6592 - accuracy: 0.7554 - val_loss: 0.6538 - val_accuracy: 0.7615\n",
            "Epoch 11/12\n",
            "250/250 [==============================] - 282s 1s/step - loss: 0.6499 - accuracy: 0.7593 - val_loss: 0.7429 - val_accuracy: 0.7407\n",
            "Epoch 12/12\n",
            "250/250 [==============================] - 278s 1s/step - loss: 0.6347 - accuracy: 0.7664 - val_loss: 0.6705 - val_accuracy: 0.7568\n",
            "2024-06-07 04:45:33.509998-04:00\n",
            "Training time: 1:01:16.879161\n",
            "54/54 [==============================] - 17s 316ms/step - loss: 0.6689 - accuracy: 0.7578\n",
            "Loss: 0.6689489483833313\n",
            "Accuracy: 0.7578131556510925\n",
            "Model saved to /content/saved_model\n"
          ]
        },
        {
          "data": {
            "image/png": "[encoded data removed]",
            "text/plain": [
              "<Figure size 1200x400 with 2 Axes>"
            ]
          },
          "metadata": {},
          "output_type": "display_data"
        }
      ],
      "source": [
        "#Entraînement du modèle\n",
        "import datetime\n",
        "import pytz\n",
        "import os\n",
        "import numpy as np\n",
        "import tensorflow as tf\n",
        "import matplotlib.pyplot as plt\n",
        "from tensorflow.keras.preprocessing.image import ImageDataGenerator\n",
        "\n",
        "# Définir les chemins d'accès pour les ensembles d'entraînement et de test\n",
        "train_path = \"/content/augmented_dataset/train/\"\n",
        "test_path = \"/content/augmented_dataset/test/\"\n",
        "\n",
        "# Paramètres des images\n",
        "img_width = 50\n",
        "img_height = 50\n",
        "batch_size = 224\n",
        "epoch_num=12\n",
        "\n",
        "# Création des générateurs d'images avec augmentation des données\n",
        "train_datagen = ImageDataGenerator(\n",
        "    rescale=1.0/255.0,\n",
        "    rotation_range=20,\n",
        "    width_shift_range=0.2,\n",
        "    height_shift_range=0.2,\n",
        "    shear_range=0.2,\n",
        "    zoom_range=0.2,\n",
        "    horizontal_flip=True,\n",
        "    fill_mode='nearest'\n",
        ")\n",
        "\n",
        "test_datagen = ImageDataGenerator(rescale=1.0/255.0)\n",
        "\n",
        "# Préparation des générateurs\n",
        "train_generator = train_datagen.flow_from_directory(\n",
        "    train_path,\n",
        "    target_size=(img_width, img_height),\n",
        "    batch_size=batch_size,\n",
        "    class_mode='sparse'\n",
        ")\n",
        "\n",
        "test_generator = test_datagen.flow_from_directory(\n",
        "    test_path,\n",
        "    target_size=(img_width, img_height),\n",
        "    batch_size=batch_size,\n",
        "    class_mode='sparse'\n",
        ")\n",
        "\n",
        "# Modèle - CNN\n",
        "# ------------------------------\n",
        "hiperparameters = {\n",
        "    'batch_size': batch_size,\n",
        "    'epochs':epoch_num\n",
        "}\n",
        "\n",
        "# Architecture du modèle CNN\n",
        "model = tf.keras.models.Sequential([\n",
        "    tf.keras.layers.Input(shape=(img_width, img_height, 3)),\n",
        "    tf.keras.layers.Conv2D(32, (3, 3), activation='relu'),\n",
        "    tf.keras.layers.MaxPooling2D(2, 2),\n",
        "    tf.keras.layers.Conv2D(64, (3, 3), activation='relu'),\n",
        "    tf.keras.layers.MaxPooling2D(2, 2),\n",
        "    tf.keras.layers.Flatten(),\n",
        "    tf.keras.layers.Dense(256, activation='relu'),  # Réduction du nombre de neurones\n",
        "    tf.keras.layers.Dense(6, activation='softmax')\n",
        "    ])\n",
        "\n",
        "model.compile(optimizer='adam', loss='sparse_categorical_crossentropy', metrics=['accuracy'])\n",
        "a = datetime.datetime.now(pytz.timezone(\"America/Montreal\"))\n",
        "print(a)\n",
        "# Entraîner le modèle\n",
        "history = model.fit(\n",
        "    train_generator,\n",
        "    steps_per_epoch=train_generator.samples // batch_size,\n",
        "    validation_data=test_generator,\n",
        "    validation_steps=test_generator.samples // batch_size,\n",
        "    epochs=hiperparameters['epochs']\n",
        ")\n",
        "b = datetime.datetime.now(pytz.timezone(\"America/Montreal\"))\n",
        "print(b)\n",
        "\n",
        "print(f\"Training time: {b - a}\")\n",
        "# Évaluer le modèle\n",
        "loss, accuracy = model.evaluate(test_generator)\n",
        "print(f\"Loss: {loss}\")\n",
        "print(f\"Accuracy: {accuracy}\")\n",
        "\n",
        "# Sauvegarder le modèle entraîné\n",
        "model_save_path = \"/content/saved_model\"\n",
        "model.save(model_save_path)\n",
        "print(f\"Model saved to {model_save_path}\")\n",
        "\n",
        "# Visualiser les courbes de perte et de précision\n",
        "plt.figure(figsize=(12, 4))\n",
        "\n",
        "# Courbe de perte (loss)\n",
        "plt.subplot(1, 2, 1)\n",
        "plt.plot(history.history['loss'], label='Train Loss')\n",
        "plt.plot(history.history['val_loss'], label='Validation Loss')\n",
        "plt.xlabel('Epochs')\n",
        "plt.ylabel('Loss')\n",
        "plt.legend()\n",
        "plt.title('Loss over Epochs')\n",
        "\n",
        "# Courbe de précision (accuracy)\n",
        "plt.subplot(1, 2, 2)\n",
        "plt.plot(history.history['accuracy'], label='Train Accuracy')\n",
        "plt.plot(history.history['val_accuracy'], label='Validation Accuracy')\n",
        "plt.xlabel('Epochs')\n",
        "plt.ylabel('Accuracy')\n",
        "plt.legend()\n",
        "plt.title('Accuracy over Epochs')\n",
        "\n",
        "plt.show()\n"
      ]
    },
    {
      "cell_type": "markdown",
      "metadata": {
        "id": "ge3G9va2vh9T"
      },
      "source": []
    },
    {
      "cell_type": "code",
      "execution_count": null,
      "metadata": {
        "colab": {
          "base_uri": "https://localhost:8080/"
        },
        "id": "ZEWlu5Rc17Zd",
        "outputId": "64917550-239d-4478-efc9-4a58361c266a"
      },
      "outputs": [
        {
          "name": "stdout",
          "output_type": "stream",
          "text": [
            "Drive already mounted at /content/drive; to attempt to forcibly remount, call drive.mount(\"/content/drive\", force_remount=True).\n"
          ]
        }
      ],
      "source": [
        "from google.colab import drive\n",
        "drive.mount('/content/drive')"
      ]
    }
  ],
  "metadata": {
    "colab": {
      "provenance": []
    },
    "kaggle": {
      "accelerator": "none",
      "dataSources": [
        {
          "datasetId": 111880,
          "sourceId": 269359,
          "sourceType": "datasetVersion"
        }
      ],
      "isGpuEnabled": false,
      "isInternetEnabled": false,
      "language": "python",
      "sourceType": "notebook"
    },
    "kernelspec": {
      "display_name": "Python 3",
      "language": "python",
      "name": "python3"
    },
    "language_info": {
      "codemirror_mode": {
        "name": "ipython",
        "version": 3
      },
      "file_extension": ".py",
      "mimetype": "text/x-python",
      "name": "python",
      "nbconvert_exporter": "python",
      "pygments_lexer": "ipython3",
      "version": "3.10.13"
    }
  },
  "nbformat": 4,
  "nbformat_minor": 0
}
